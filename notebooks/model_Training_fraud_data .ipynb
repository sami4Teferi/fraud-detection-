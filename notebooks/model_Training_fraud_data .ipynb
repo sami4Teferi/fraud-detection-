{
 "cells": [
  {
   "cell_type": "code",
   "execution_count": 42,
   "metadata": {},
   "outputs": [],
   "source": [
    "# Importing necessary lebraries\n",
    "import numpy as np\n",
    "import pandas as pd\n",
    "import os\n",
    "import sys\n",
    "import matplotlib.pyplot as pl\n",
    "import joblib\n",
    "import seaborn as se\n",
    "from collections import Counter\n",
    "import mlflow\n",
    "import mlflow.sklearn\n",
    "from sklearn.linear_model import LogisticRegression\n",
    "from sklearn.metrics import classification_report\n",
    "from sklearn.preprocessing import StandardScaler\n",
    "from sklearn.tree import DecisionTreeClassifier\n",
    "from sklearn.ensemble import RandomForestClassifier\n",
    "from sklearn.ensemble import GradientBoostingClassifier\n",
    "from sklearn.neural_network import MLPClassifier\n",
    "from imblearn.over_sampling import SMOTE\n",
    "from imblearn.under_sampling import RandomUnderSampler"
   ]
  },
  {
   "cell_type": "code",
   "execution_count": 2,
   "metadata": {},
   "outputs": [],
   "source": [
    "sys.path.append(os.path.join(os.path.abspath('..')))\n",
    "# Import modules\n",
    "from src import data_loading as dl"
   ]
  },
  {
   "cell_type": "code",
   "execution_count": 3,
   "metadata": {},
   "outputs": [],
   "source": [
    "\n",
    "sys.path.append(os.path.abspath(\"../\"))\n",
    "\n",
    "\n",
    "from scripts.model import prepare_data, split_data\n",
    "\n",
    "from scripts.logger import logger "
   ]
  },
  {
   "cell_type": "code",
   "execution_count": null,
   "metadata": {},
   "outputs": [],
   "source": [
    "\n",
    "fraud_df = dl.load_data(\"processed/processed_fraud_data.csv\")\n"
   ]
  },
  {
   "cell_type": "code",
   "execution_count": 5,
   "metadata": {},
   "outputs": [
    {
     "name": "stdout",
     "output_type": "stream",
     "text": [
      "No frauds 90.64 % of the dataset\n",
      "Frauds 9.36 % of the dataset\n"
     ]
    }
   ],
   "source": [
    "print('No frauds', round(fraud_df['class'].value_counts()[0]/len(fraud_df) * 100,2),\n",
    "      '% of the dataset')\n",
    "print('Frauds', round(fraud_df['class'].value_counts()[1]/len(fraud_df) * 100,2),\n",
    "      '% of the dataset')"
   ]
  },
  {
   "cell_type": "markdown",
   "metadata": {},
   "source": [
    " dataset - it's  skewed toNo frauds transactions! i want  my model to be vigilant and identify subtle patterns that indicate potential fraud. To achieve this, we must address the class imbalance issue head-on"
   ]
  },
  {
   "cell_type": "markdown",
   "metadata": {},
   "source": [
    "Feature and Target Separation for Fraud_Data.csv"
   ]
  },
  {
   "cell_type": "code",
   "execution_count": 6,
   "metadata": {},
   "outputs": [],
   "source": [
    "# fraud_df = fraud_df.sample(frac=1, random_state=42).reset_index(drop=True)\n",
    "# fraud_df = fraud_df.drop(columns=['Unnamed: 0', 'signup_time', 'purchase_time', 'device_id', 'ip_address'])\n",
    "# bool_cols = fraud_df.select_dtypes(include=['bool']).columns\n",
    "# fraud_df[bool_cols] = fraud_df[bool_cols].astype(int)"
   ]
  },
  {
   "cell_type": "markdown",
   "metadata": {},
   "source": [
    "Feature and Target Separation for Fraud_Data.csv"
   ]
  },
  {
   "cell_type": "code",
   "execution_count": 6,
   "metadata": {},
   "outputs": [
    {
     "name": "stderr",
     "output_type": "stream",
     "text": [
      "INFO:fraud_detection_logger:Preparing data by separating features and target column: class\n"
     ]
    },
    {
     "name": "stdout",
     "output_type": "stream",
     "text": [
      "2025-02-10 19:35:17,321 - INFO - Preparing data by separating features and target column: class\n"
     ]
    }
   ],
   "source": [
    "\n",
    "X_fraud, y_fraud = prepare_data(fraud_df, 'class')"
   ]
  },
  {
   "cell_type": "markdown",
   "metadata": {},
   "source": [
    "Train-Test Split for Fraud_Data.csv"
   ]
  },
  {
   "cell_type": "code",
   "execution_count": 7,
   "metadata": {},
   "outputs": [
    {
     "name": "stderr",
     "output_type": "stream",
     "text": [
      "INFO:fraud_detection_logger:Splitting data into train and test sets\n"
     ]
    },
    {
     "name": "stdout",
     "output_type": "stream",
     "text": [
      "2025-02-10 19:35:19,627 - INFO - Splitting data into train and test sets\n"
     ]
    }
   ],
   "source": [
    "\n",
    "X_train_fraud, X_test_fraud, y_train_fraud, y_test_fraud = split_data(X_fraud, y_fraud)"
   ]
  },
  {
   "cell_type": "code",
   "execution_count": 8,
   "metadata": {},
   "outputs": [
    {
     "name": "stdout",
     "output_type": "stream",
     "text": [
      "Fraud Data Shapes:\n",
      "X_train_fraud: (120889, 21)\n",
      "X_test_fraud: (30223, 21)\n",
      "y_train_fraud: (120889,)\n",
      "y_test_fraud: (30223,)\n"
     ]
    }
   ],
   "source": [
    "print(\"Fraud Data Shapes:\")\n",
    "print(\"X_train_fraud:\", X_train_fraud.shape)\n",
    "print(\"X_test_fraud:\", X_test_fraud.shape)\n",
    "print(\"y_train_fraud:\", y_train_fraud.shape)\n",
    "print(\"y_test_fraud:\", y_test_fraud.shape)"
   ]
  },
  {
   "cell_type": "code",
   "execution_count": 9,
   "metadata": {},
   "outputs": [
    {
     "name": "stdout",
     "output_type": "stream",
     "text": [
      "Label Distributions: \n",
      "\n",
      "Training set label distribution: [0.90651755 0.09348245]\n",
      "Testing set label distribution: [0.90570096 0.09429904]\n"
     ]
    }
   ],
   "source": [
    "# Check the distribution of labels in the training and testing sets\n",
    "train_unique_label, train_counts_label = np.unique(y_train_fraud, return_counts=True)\n",
    "test_unique_label, test_counts_label = np.unique(y_test_fraud, return_counts=True)\n",
    "\n",
    "\n",
    "print('Label Distributions: \\n')\n",
    "print('Training set label distribution:', train_counts_label/ len(y_train_fraud))\n",
    "print('Testing set label distribution:', test_counts_label/ len(y_test_fraud))"
   ]
  },
  {
   "cell_type": "code",
   "execution_count": 10,
   "metadata": {},
   "outputs": [
    {
     "name": "stdout",
     "output_type": "stream",
     "text": [
      "non fraud data  136961\n"
     ]
    }
   ],
   "source": [
    "non_fraud_sum = fraud_df[fraud_df['class'] == 0].value_counts().sum()\n",
    "print('non fraud data ', non_fraud_sum)"
   ]
  },
  {
   "cell_type": "code",
   "execution_count": 11,
   "metadata": {},
   "outputs": [
    {
     "name": "stdout",
     "output_type": "stream",
     "text": [
      " fraud data  14151\n"
     ]
    }
   ],
   "source": [
    "fraud_sum = fraud_df[fraud_df['class'] == 1].value_counts().sum()\n",
    "print(' fraud data ', fraud_sum)"
   ]
  },
  {
   "cell_type": "code",
   "execution_count": 12,
   "metadata": {},
   "outputs": [
    {
     "data": {
      "image/png": "[encoded data removed]",
      "text/plain": [
       "<Figure size 640x480 with 1 Axes>"
      ]
     },
     "metadata": {},
     "output_type": "display_data"
    }
   ],
   "source": [
    "se.countplot(data=fraud_df, x='class', hue='class', palette='viridis')\n",
    "pl.legend(title='class', labels=['Non-Fraud', 'Fraud'], loc='best')\n",
    "pl.title('Distribution of Fraud and Non-Fraud Transactions')\n",
    "pl.show()"
   ]
  },
  {
   "cell_type": "code",
   "execution_count": null,
   "metadata": {},
   "outputs": [
    {
     "name": "stdout",
     "output_type": "stream",
     "text": [
      "class\n",
      "1    14151\n",
      "0    14151\n",
      "Name: count, dtype: int64\n"
     ]
    },
    {
     "data": {
      "text/html": [
       "<div>\n",
       "<style scoped>\n",
       "    .dataframe tbody tr th:only-of-type {\n",
       "        vertical-align: middle;\n",
       "    }\n",
       "\n",
       "    .dataframe tbody tr th {\n",
       "        vertical-align: top;\n",
       "    }\n",
       "\n",
       "    .dataframe thead th {\n",
       "        text-align: right;\n",
       "    }\n",
       "</style>\n",
       "<table border=\"1\" class=\"dataframe\">\n",
       "  <thead>\n",
       "    <tr style=\"text-align: right;\">\n",
       "      <th></th>\n",
       "      <th>user_id</th>\n",
       "      <th>purchase_value</th>\n",
       "      <th>age</th>\n",
       "      <th>class</th>\n",
       "      <th>hour_of_day</th>\n",
       "      <th>day_of_week</th>\n",
       "      <th>purchase_delay</th>\n",
       "      <th>user_transaction_frequency</th>\n",
       "      <th>device_transaction_frequency</th>\n",
       "      <th>user_transaction_velocity</th>\n",
       "      <th>source_Direct</th>\n",
       "      <th>source_SEO</th>\n",
       "      <th>browser_FireFox</th>\n",
       "      <th>browser_IE</th>\n",
       "      <th>browser_Opera</th>\n",
       "      <th>browser_Safari</th>\n",
       "      <th>sex_M</th>\n",
       "    </tr>\n",
       "  </thead>\n",
       "  <tbody>\n",
       "    <tr>\n",
       "      <th>0</th>\n",
       "      <td>24952</td>\n",
       "      <td>0.494721</td>\n",
       "      <td>-0.712568</td>\n",
       "      <td>1</td>\n",
       "      <td>0.937208</td>\n",
       "      <td>0.492565</td>\n",
       "      <td>-1.577617</td>\n",
       "      <td>0.0</td>\n",
       "      <td>3.177611</td>\n",
       "      <td>4.345476</td>\n",
       "      <td>0</td>\n",
       "      <td>1</td>\n",
       "      <td>0</td>\n",
       "      <td>0</td>\n",
       "      <td>1</td>\n",
       "      <td>0</td>\n",
       "      <td>1</td>\n",
       "    </tr>\n",
       "    <tr>\n",
       "      <th>1</th>\n",
       "      <td>124940</td>\n",
       "      <td>-0.214781</td>\n",
       "      <td>-0.248408</td>\n",
       "      <td>0</td>\n",
       "      <td>0.503209</td>\n",
       "      <td>1.489476</td>\n",
       "      <td>0.126940</td>\n",
       "      <td>0.0</td>\n",
       "      <td>-0.261514</td>\n",
       "      <td>-0.230128</td>\n",
       "      <td>0</td>\n",
       "      <td>0</td>\n",
       "      <td>1</td>\n",
       "      <td>0</td>\n",
       "      <td>0</td>\n",
       "      <td>0</td>\n",
       "      <td>0</td>\n",
       "    </tr>\n",
       "    <tr>\n",
       "      <th>2</th>\n",
       "      <td>162540</td>\n",
       "      <td>0.658452</td>\n",
       "      <td>-0.596528</td>\n",
       "      <td>0</td>\n",
       "      <td>-0.509456</td>\n",
       "      <td>0.991020</td>\n",
       "      <td>0.936569</td>\n",
       "      <td>0.0</td>\n",
       "      <td>-0.261514</td>\n",
       "      <td>-0.230129</td>\n",
       "      <td>0</td>\n",
       "      <td>1</td>\n",
       "      <td>0</td>\n",
       "      <td>1</td>\n",
       "      <td>0</td>\n",
       "      <td>0</td>\n",
       "      <td>0</td>\n",
       "    </tr>\n",
       "    <tr>\n",
       "      <th>3</th>\n",
       "      <td>59847</td>\n",
       "      <td>0.003527</td>\n",
       "      <td>-1.640890</td>\n",
       "      <td>0</td>\n",
       "      <td>1.371208</td>\n",
       "      <td>-0.005891</td>\n",
       "      <td>0.179193</td>\n",
       "      <td>0.0</td>\n",
       "      <td>-0.261514</td>\n",
       "      <td>-0.230128</td>\n",
       "      <td>0</td>\n",
       "      <td>1</td>\n",
       "      <td>0</td>\n",
       "      <td>0</td>\n",
       "      <td>0</td>\n",
       "      <td>0</td>\n",
       "      <td>1</td>\n",
       "    </tr>\n",
       "    <tr>\n",
       "      <th>4</th>\n",
       "      <td>360735</td>\n",
       "      <td>-0.978861</td>\n",
       "      <td>-0.364448</td>\n",
       "      <td>1</td>\n",
       "      <td>-0.220124</td>\n",
       "      <td>-0.504347</td>\n",
       "      <td>-1.577617</td>\n",
       "      <td>0.0</td>\n",
       "      <td>5.470361</td>\n",
       "      <td>4.345476</td>\n",
       "      <td>0</td>\n",
       "      <td>0</td>\n",
       "      <td>0</td>\n",
       "      <td>0</td>\n",
       "      <td>0</td>\n",
       "      <td>0</td>\n",
       "      <td>0</td>\n",
       "    </tr>\n",
       "  </tbody>\n",
       "</table>\n",
       "</div>"
      ],
      "text/plain": [
       "   user_id  purchase_value       age  class  hour_of_day  day_of_week  \\\n",
       "0    24952        0.494721 -0.712568      1     0.937208     0.492565   \n",
       "1   124940       -0.214781 -0.248408      0     0.503209     1.489476   \n",
       "2   162540        0.658452 -0.596528      0    -0.509456     0.991020   \n",
       "3    59847        0.003527 -1.640890      0     1.371208    -0.005891   \n",
       "4   360735       -0.978861 -0.364448      1    -0.220124    -0.504347   \n",
       "\n",
       "   purchase_delay  user_transaction_frequency  device_transaction_frequency  \\\n",
       "0       -1.577617                         0.0                      3.177611   \n",
       "1        0.126940                         0.0                     -0.261514   \n",
       "2        0.936569                         0.0                     -0.261514   \n",
       "3        0.179193                         0.0                     -0.261514   \n",
       "4       -1.577617                         0.0                      5.470361   \n",
       "\n",
       "   user_transaction_velocity  source_Direct  source_SEO  browser_FireFox  \\\n",
       "0                   4.345476              0           1                0   \n",
       "1                  -0.230128              0           0                1   \n",
       "2                  -0.230129              0           1                0   \n",
       "3                  -0.230128              0           1                0   \n",
       "4                   4.345476              0           0                0   \n",
       "\n",
       "   browser_IE  browser_Opera  browser_Safari  sex_M  \n",
       "0           0              1               0      1  \n",
       "1           0              0               0      0  \n",
       "2           1              0               0      0  \n",
       "3           0              0               0      1  \n",
       "4           0              0               0      0  "
      ]
     },
     "execution_count": 13,
     "metadata": {},
     "output_type": "execute_result"
    }
   ],
   "source": [
    "\n",
    "\n",
    "# Shuffle dataset\n",
    "df = fraud_df.sample(frac=1, random_state=42).reset_index(drop=True)\n",
    "\n",
    "# Get counts of each class\n",
    "num_fraud = df[df['class'] == 1].shape[0]\n",
    "num_non_fraud = df[df['class'] == 0].shape[0]\n",
    "\n",
    "# Determine the smaller class size to balance\n",
    "min_samples = min(num_fraud, num_non_fraud)\n",
    "\n",
    "# Undersample both classes to be exactly equal\n",
    "fraud_sample = df[df['class'] == 1].sample(n=min_samples, random_state=42)\n",
    "non_fraud_sample = df[df['class'] == 0].sample(n=min_samples, random_state=42)\n",
    "\n",
    "# Combine balanced data\n",
    "balanced_df = pd.concat([fraud_sample, non_fraud_sample])\n",
    "\n",
    "# Shuffle again to mix fraud & non-fraud instances\n",
    "balanced_df = balanced_df.sample(frac=1, random_state=42).reset_index(drop=True)\n",
    "\n",
    "# Drop unnecessary columns\n",
    "balanced_df = balanced_df.drop(columns=['Unnamed: 0', 'signup_time', 'purchase_time', 'device_id', 'ip_address'])\n",
    "\n",
    "# Convert boolean columns to integers\n",
    "bool_cols = balanced_df.select_dtypes(include=['bool']).columns\n",
    "balanced_df[bool_cols] = balanced_df[bool_cols].astype(int)\n",
    "\n",
    "# Verify the class distribution\n",
    "print(balanced_df['class'].value_counts())\n",
    "\n",
    "# Display first few rows\n",
    "balanced_df.head()\n"
   ]
  },
  {
   "cell_type": "code",
   "execution_count": 14,
   "metadata": {},
   "outputs": [
    {
     "data": {
      "image/png": "[encoded data removed]",
      "text/plain": [
       "<Figure size 640x480 with 1 Axes>"
      ]
     },
     "metadata": {},
     "output_type": "display_data"
    }
   ],
   "source": [
    "se.countplot(data=balanced_df, x='class', hue='class', palette='viridis')\n",
    "pl.legend(title='class', labels=['Non-Fraud', 'Fraud'], loc='best')\n",
    "pl.title('Distribution of Fraud and Non-Fraud Transactions')\n",
    "pl.show()"
   ]
  },
  {
   "cell_type": "code",
   "execution_count": 15,
   "metadata": {},
   "outputs": [
    {
     "name": "stderr",
     "output_type": "stream",
     "text": [
      "INFO:fraud_detection_logger:Preparing data by separating features and target column: class\n"
     ]
    },
    {
     "name": "stdout",
     "output_type": "stream",
     "text": [
      "2025-02-10 19:35:41,282 - INFO - Preparing data by separating features and target column: class\n"
     ]
    }
   ],
   "source": [
    "X_fraud, y_fraud = prepare_data(balanced_df, 'class')"
   ]
  },
  {
   "cell_type": "code",
   "execution_count": 16,
   "metadata": {},
   "outputs": [],
   "source": [
    "X_train = X_train_fraud.values\n",
    "X_test = X_test_fraud.values\n",
    "y_train = y_train_fraud.values\n",
    "X_test = X_test_fraud.values\n",
    "y_test = y_test_fraud.values"
   ]
  },
  {
   "cell_type": "code",
   "execution_count": 17,
   "metadata": {},
   "outputs": [
    {
     "name": "stderr",
     "output_type": "stream",
     "text": [
      "INFO:fraud_detection_logger:Splitting data into train and test sets\n"
     ]
    },
    {
     "name": "stdout",
     "output_type": "stream",
     "text": [
      "2025-02-10 19:35:46,009 - INFO - Splitting data into train and test sets\n"
     ]
    }
   ],
   "source": [
    "X_train_fraud, X_test_fraud, y_train_fraud, y_test_fraud = split_data(X_fraud, y_fraud)\n"
   ]
  },
  {
   "cell_type": "code",
   "execution_count": 18,
   "metadata": {},
   "outputs": [],
   "source": [
    "X_train_fraud = X_train_fraud.astype('float64')\n",
    "X_test_fraud = X_test_fraud.astype('float64')\n"
   ]
  },
  {
   "cell_type": "code",
   "execution_count": 19,
   "metadata": {},
   "outputs": [
    {
     "name": "stderr",
     "output_type": "stream",
     "text": [
      "c:\\Users\\HP\\Documents\\Dagii\\week 8 --9\\fraud-detection-models\\week-8\\Lib\\site-packages\\mlflow\\types\\utils.py:452: UserWarning: Hint: Inferred schema contains integer column(s). Integer columns in Python cannot represent missing values. If your input data contains missing values at inference time, it will be encoded as floats and will cause a schema enforcement error. The best way to avoid this problem is to infer the model schema based on a realistic data sample (training dataset) that includes missing values. Alternatively, you can declare integer columns as doubles (float64) whenever these columns may have missing values. See `Handling Integers With Missing Values <https://www.mlflow.org/docs/latest/models.html#handling-integers-with-missing-values>`_ for more details.\n",
      "  warnings.warn(\n"
     ]
    },
    {
     "name": "stdout",
     "output_type": "stream",
     "text": [
      "Logistic Regression - Fraud Data:\n",
      "               precision    recall  f1-score   support\n",
      "\n",
      "           0       0.72      0.98      0.83      2853\n",
      "           1       0.96      0.62      0.75      2808\n",
      "\n",
      "    accuracy                           0.80      5661\n",
      "   macro avg       0.84      0.80      0.79      5661\n",
      "weighted avg       0.84      0.80      0.79      5661\n",
      "\n"
     ]
    }
   ],
   "source": [
    "# Train and evaluate Logistic Regression model for Fraud_Data.csv\n",
    "with mlflow.start_run(run_name=\"Logistic Regression - Fraud Data\"):\n",
    "    logistic_model = LogisticRegression(max_iter=1000, solver='lbfgs', class_weight='balanced')  # Increased max_iter & balanced class weights\n",
    "    \n",
    "    # Ensure feature data is in float64 to avoid MLflow warnings\n",
    "    X_train_fraud = X_train_fraud.astype('float64')\n",
    "    X_test_fraud = X_test_fraud.astype('float64')\n",
    "\n",
    "    logistic_model.fit(X_train_fraud, y_train_fraud)\n",
    "    y_pred_fraud = logistic_model.predict(X_test_fraud)\n",
    "\n",
    "    # Generate classification report\n",
    "    report_fraud = classification_report(y_test_fraud, y_pred_fraud, output_dict=True)\n",
    "    accuracy_fraud = report_fraud['accuracy']\n",
    "\n",
    "    # Log parameters, metrics, and model\n",
    "    mlflow.log_param(\"model\", \"Logistic Regression\")\n",
    "    mlflow.log_metric(\"accuracy\", accuracy_fraud)\n",
    "    mlflow.sklearn.log_model(logistic_model, \"logistic_model_fraud\", input_example=X_test_fraud[:5])\n",
    "\n",
    "    # Print classification report\n",
    "    print(\"Logistic Regression - Fraud Data:\\n\", classification_report(y_test_fraud, y_pred_fraud))"
   ]
  },
  {
   "cell_type": "code",
   "execution_count": 20,
   "metadata": {},
   "outputs": [
    {
     "name": "stderr",
     "output_type": "stream",
     "text": [
      "c:\\Users\\HP\\Documents\\Dagii\\week 8 --9\\fraud-detection-models\\week-8\\Lib\\site-packages\\mlflow\\types\\utils.py:452: UserWarning: Hint: Inferred schema contains integer column(s). Integer columns in Python cannot represent missing values. If your input data contains missing values at inference time, it will be encoded as floats and will cause a schema enforcement error. The best way to avoid this problem is to infer the model schema based on a realistic data sample (training dataset) that includes missing values. Alternatively, you can declare integer columns as doubles (float64) whenever these columns may have missing values. See `Handling Integers With Missing Values <https://www.mlflow.org/docs/latest/models.html#handling-integers-with-missing-values>`_ for more details.\n",
      "  warnings.warn(\n"
     ]
    },
    {
     "name": "stdout",
     "output_type": "stream",
     "text": [
      "Decision Tree - Fraud Data:\n",
      "               precision    recall  f1-score   support\n",
      "\n",
      "           0       0.73      0.70      0.71      2853\n",
      "           1       0.71      0.74      0.72      2808\n",
      "\n",
      "    accuracy                           0.72      5661\n",
      "   macro avg       0.72      0.72      0.72      5661\n",
      "weighted avg       0.72      0.72      0.72      5661\n",
      "\n"
     ]
    }
   ],
   "source": [
    "# Train and evaluate Decision Tree model for Fraud_Data.csv\n",
    "with mlflow.start_run(run_name=\"Decision Tree - Fraud Data\"):\n",
    "    decision_tree_model = DecisionTreeClassifier()\n",
    "    \n",
    "    # Ensure feature data is in float64 to avoid MLflow warnings\n",
    "    X_train_fraud = X_train_fraud.astype('float64')\n",
    "    X_test_fraud = X_test_fraud.astype('float64')\n",
    "    \n",
    "    # Convert integer columns in X_test_fraud to float64 to avoid schema enforcement warnings\n",
    "    X_test_fraud = X_test_fraud.astype('float64')\n",
    "    \n",
    "    decision_tree_model.fit(X_train_fraud, y_train_fraud)\n",
    "    y_pred_fraud = decision_tree_model.predict(X_test_fraud)\n",
    "\n",
    "    # Generate classification report\n",
    "    report_fraud = classification_report(y_test_fraud, y_pred_fraud, output_dict=True)\n",
    "    accuracy_fraud = report_fraud['accuracy']\n",
    "\n",
    "    # Log parameters, metrics, and model\n",
    "    mlflow.log_param(\"model\", \"Decision Tree\")\n",
    "    mlflow.log_metric(\"accuracy\", accuracy_fraud)\n",
    "    mlflow.sklearn.log_model(decision_tree_model, \"decision_tree_model_fraud\", input_example=X_test_fraud[:5])\n",
    "\n",
    "    # Print classification report\n",
    "    print(\"Decision Tree - Fraud Data:\\n\", classification_report(y_test_fraud, y_pred_fraud))"
   ]
  },
  {
   "cell_type": "code",
   "execution_count": 39,
   "metadata": {},
   "outputs": [
    {
     "name": "stderr",
     "output_type": "stream",
     "text": [
      "c:\\Users\\HP\\Documents\\Dagii\\week 8 --9\\fraud-detection-models\\week-8\\Lib\\site-packages\\mlflow\\types\\utils.py:452: UserWarning: Hint: Inferred schema contains integer column(s). Integer columns in Python cannot represent missing values. If your input data contains missing values at inference time, it will be encoded as floats and will cause a schema enforcement error. The best way to avoid this problem is to infer the model schema based on a realistic data sample (training dataset) that includes missing values. Alternatively, you can declare integer columns as doubles (float64) whenever these columns may have missing values. See `Handling Integers With Missing Values <https://www.mlflow.org/docs/latest/models.html#handling-integers-with-missing-values>`_ for more details.\n",
      "  warnings.warn(\n"
     ]
    },
    {
     "name": "stdout",
     "output_type": "stream",
     "text": [
      "Random Forest - Fraud Data:\n",
      "               precision    recall  f1-score   support\n",
      "\n",
      "           0       0.96      1.00      0.98     27382\n",
      "           1       0.99      0.55      0.70      2841\n",
      "\n",
      "    accuracy                           0.96     30223\n",
      "   macro avg       0.97      0.77      0.84     30223\n",
      "weighted avg       0.96      0.96      0.95     30223\n",
      "\n"
     ]
    }
   ],
   "source": [
    "# Train and evaluate Random Forest model\n",
    "with mlflow.start_run(run_name=\"Random Forest - Fraud Data\"):\n",
    "    random_forest_model = RandomForestClassifier(n_estimators=100, random_state=42)\n",
    "\n",
    "    # Ensure feature data is in float64 to avoid MLflow warnings\n",
    "    X_train = X_train.astype('float64')\n",
    "    X_test = X_test.astype('float64')\n",
    "\n",
    "    random_forest_model.fit(X_train, y_train)  # Train the model\n",
    "    y_pred_fraud = random_forest_model.predict(X_test)  # Predict on test data\n",
    "\n",
    "    # Generate classification report\n",
    "    report_fraud = classification_report(y_test, y_pred_fraud, output_dict=True)\n",
    "    accuracy_fraud = report_fraud['accuracy']\n",
    "\n",
    "    # Log parameters, metrics, and model\n",
    "    mlflow.log_param(\"model\", \"Random Forest\")\n",
    "    mlflow.log_metric(\"accuracy\", accuracy_fraud)\n",
    "    mlflow.sklearn.log_model(random_forest_model, \"random_forest_model_fraud\", input_example=X_test[:5])\n",
    "\n",
    "    # Print classification report\n",
    "    print(\"Random Forest - Fraud Data:\\n\", classification_report(y_test, y_pred_fraud))\n"
   ]
  },
  {
   "cell_type": "code",
   "execution_count": 22,
   "metadata": {},
   "outputs": [
    {
     "name": "stderr",
     "output_type": "stream",
     "text": [
      "c:\\Users\\HP\\Documents\\Dagii\\week 8 --9\\fraud-detection-models\\week-8\\Lib\\site-packages\\mlflow\\types\\utils.py:452: UserWarning: Hint: Inferred schema contains integer column(s). Integer columns in Python cannot represent missing values. If your input data contains missing values at inference time, it will be encoded as floats and will cause a schema enforcement error. The best way to avoid this problem is to infer the model schema based on a realistic data sample (training dataset) that includes missing values. Alternatively, you can declare integer columns as doubles (float64) whenever these columns may have missing values. See `Handling Integers With Missing Values <https://www.mlflow.org/docs/latest/models.html#handling-integers-with-missing-values>`_ for more details.\n",
      "  warnings.warn(\n"
     ]
    },
    {
     "name": "stdout",
     "output_type": "stream",
     "text": [
      "Gradient Boosting - Fraud Data:\n",
      "               precision    recall  f1-score   support\n",
      "\n",
      "           0       0.77      0.94      0.85      2853\n",
      "           1       0.93      0.71      0.80      2808\n",
      "\n",
      "    accuracy                           0.83      5661\n",
      "   macro avg       0.85      0.83      0.83      5661\n",
      "weighted avg       0.85      0.83      0.83      5661\n",
      "\n"
     ]
    }
   ],
   "source": [
    "# Train and evaluate Gradient Boosting model for Fraud_Data.csv\n",
    "with mlflow.start_run(run_name=\"Gradient Boosting - Fraud Data\"):\n",
    "    gradient_boosting_model = GradientBoostingClassifier(n_estimators=100, learning_rate=0.1, max_depth=3, random_state=42)\n",
    "    \n",
    "    # Ensure feature data is in float64 to avoid MLflow warnings\n",
    "    X_train_fraud = X_train_fraud.astype('float64')\n",
    "    X_test_fraud = X_test_fraud.astype('float64')\n",
    "\n",
    "    gradient_boosting_model.fit(X_train_fraud, y_train_fraud)\n",
    "    y_pred_fraud = gradient_boosting_model.predict(X_test_fraud)\n",
    "\n",
    "    # Generate classification report\n",
    "    report_fraud = classification_report(y_test_fraud, y_pred_fraud, output_dict=True)\n",
    "    accuracy_fraud = report_fraud['accuracy']\n",
    "\n",
    "    # Log parameters, metrics, and model\n",
    "    mlflow.log_param(\"model\", \"Gradient Boosting\")\n",
    "    mlflow.log_metric(\"accuracy\", accuracy_fraud)\n",
    "    mlflow.sklearn.log_model(gradient_boosting_model, \"gradient_boosting_model_fraud\", input_example=X_test_fraud[:5])\n",
    "\n",
    "    # Print classification report\n",
    "    print(\"Gradient Boosting - Fraud Data:\\n\", classification_report(y_test_fraud, y_pred_fraud))\n"
   ]
  },
  {
   "cell_type": "code",
   "execution_count": 23,
   "metadata": {},
   "outputs": [
    {
     "name": "stderr",
     "output_type": "stream",
     "text": [
      "c:\\Users\\HP\\Documents\\Dagii\\week 8 --9\\fraud-detection-models\\week-8\\Lib\\site-packages\\mlflow\\types\\utils.py:452: UserWarning: Hint: Inferred schema contains integer column(s). Integer columns in Python cannot represent missing values. If your input data contains missing values at inference time, it will be encoded as floats and will cause a schema enforcement error. The best way to avoid this problem is to infer the model schema based on a realistic data sample (training dataset) that includes missing values. Alternatively, you can declare integer columns as doubles (float64) whenever these columns may have missing values. See `Handling Integers With Missing Values <https://www.mlflow.org/docs/latest/models.html#handling-integers-with-missing-values>`_ for more details.\n",
      "  warnings.warn(\n"
     ]
    },
    {
     "name": "stdout",
     "output_type": "stream",
     "text": [
      "MLP - Fraud Data:\n",
      "               precision    recall  f1-score   support\n",
      "\n",
      "           0       0.69      0.99      0.81      2853\n",
      "           1       0.97      0.55      0.70      2808\n",
      "\n",
      "    accuracy                           0.77      5661\n",
      "   macro avg       0.83      0.77      0.76      5661\n",
      "weighted avg       0.83      0.77      0.76      5661\n",
      "\n"
     ]
    }
   ],
   "source": [
    "# Train and evaluate MLP model for Fraud_Data.csv\n",
    "with mlflow.start_run(run_name=\"MLP - Fraud Data\"):\n",
    "    mlp_model = MLPClassifier(hidden_layer_sizes=(100,), max_iter=300, alpha=0.0001, solver='adam', random_state=42)\n",
    "    \n",
    "    # Ensure feature data is in float64 to avoid MLflow warnings\n",
    "    X_train_fraud = X_train_fraud.astype('float64')\n",
    "    X_test_fraud = X_test_fraud.astype('float64')\n",
    "\n",
    "    mlp_model.fit(X_train_fraud, y_train_fraud)\n",
    "    y_pred_fraud = mlp_model.predict(X_test_fraud)\n",
    "\n",
    "    # Generate classification report\n",
    "    report_fraud = classification_report(y_test_fraud, y_pred_fraud, output_dict=True)\n",
    "    accuracy_fraud = report_fraud['accuracy']\n",
    "\n",
    "    # Log parameters, metrics, and model\n",
    "    mlflow.log_param(\"model\", \"MLP\")\n",
    "    mlflow.log_metric(\"accuracy\", accuracy_fraud)\n",
    "    mlflow.sklearn.log_model(mlp_model, \"mlp_model_fraud\", input_example=X_test_fraud[:5])\n",
    "\n",
    "    # Print classification report\n",
    "    print(\"MLP - Fraud Data:\\n\", classification_report(y_test_fraud, y_pred_fraud))"
   ]
  },
  {
   "cell_type": "code",
   "execution_count": 24,
   "metadata": {},
   "outputs": [],
   "source": [
    "fraud_df = fraud_df.sample(frac=1, random_state=42).reset_index(drop=True)\n",
    "fraud_df = fraud_df.drop(columns=['Unnamed: 0', 'signup_time', 'purchase_time', 'device_id', 'ip_address'])\n",
    "bool_cols = fraud_df.select_dtypes(include=['bool']).columns\n",
    "fraud_df[bool_cols] = fraud_df[bool_cols].astype(int)"
   ]
  },
  {
   "cell_type": "code",
   "execution_count": 33,
   "metadata": {},
   "outputs": [
    {
     "name": "stderr",
     "output_type": "stream",
     "text": [
      "INFO:fraud_detection_logger:Splitting data into train and test sets\n"
     ]
    },
    {
     "name": "stdout",
     "output_type": "stream",
     "text": [
      "2025-02-10 19:42:39,353 - INFO - Splitting data into train and test sets\n"
     ]
    }
   ],
   "source": [
    "# Split data into features (X) and target (y)\n",
    "X_u_o = fraud_df.drop(columns=['class'])\n",
    "y_u_o = fraud_df['class']\n",
    "\n",
    "# Split the original data into training and test sets\n",
    "X_train, X_test, y_train, y_test = split_data(X_u_o, y_u_o, test_size=0.2, random_state=42)\n",
    "\n",
    "# Convert Date-Time Column to Numerical Features if necessary\n",
    "\n",
    "\n",
    "\n",
    "\n",
    "\n",
    "# Convert the training and test sets to 'float64' data type\n",
    "X_train = X_train.astype('float64')\n",
    "X_test = X_test.astype('float64')"
   ]
  },
  {
   "cell_type": "code",
   "execution_count": 34,
   "metadata": {},
   "outputs": [
    {
     "name": "stdout",
     "output_type": "stream",
     "text": [
      "Counter({0: 70755, 1: 35377})\n"
     ]
    }
   ],
   "source": [
    "# Define the resampling strategies\n",
    "over = SMOTE(sampling_strategy=0.5)\n",
    "under = RandomUnderSampler(sampling_strategy=0.2)\n",
    "\n",
    "# Split data into features (X) and target (y)\n",
    "# Split data into features (X) and target (y)\n",
    "X_u_o = fraud_df.drop(columns=['class'])\n",
    "y_u_o = fraud_df['class']\n",
    "\n",
    "# Apply under-sampling first\n",
    "X_under, y_under = under.fit_resample(X_u_o, y_u_o)\n",
    "\n",
    "# Apply over-sampling on the under-sampled data\n",
    "X_resampled, y_resampled = over.fit_resample(X_under, y_under)\n",
    "\n",
    "# Now you can use the resampled data for further processing\n",
    "print(Counter(y_resampled))"
   ]
  },
  {
   "cell_type": "code",
   "execution_count": 35,
   "metadata": {},
   "outputs": [],
   "source": [
    "X_train_fraud = X_train_fraud.astype('float64')\n",
    "X_test_fraud = X_test_fraud.astype('float64')\n"
   ]
  },
  {
   "cell_type": "code",
   "execution_count": 37,
   "metadata": {},
   "outputs": [
    {
     "name": "stderr",
     "output_type": "stream",
     "text": [
      "c:\\Users\\HP\\Documents\\Dagii\\week 8 --9\\fraud-detection-models\\week-8\\Lib\\site-packages\\sklearn\\linear_model\\_logistic.py:465: ConvergenceWarning: lbfgs failed to converge (status=1):\n",
      "STOP: TOTAL NO. OF ITERATIONS REACHED LIMIT.\n",
      "\n",
      "Increase the number of iterations (max_iter) or scale the data as shown in:\n",
      "    https://scikit-learn.org/stable/modules/preprocessing.html\n",
      "Please also refer to the documentation for alternative solver options:\n",
      "    https://scikit-learn.org/stable/modules/linear_model.html#logistic-regression\n",
      "  n_iter_i = _check_optimize_result(\n",
      "c:\\Users\\HP\\Documents\\Dagii\\week 8 --9\\fraud-detection-models\\week-8\\Lib\\site-packages\\mlflow\\types\\utils.py:452: UserWarning: Hint: Inferred schema contains integer column(s). Integer columns in Python cannot represent missing values. If your input data contains missing values at inference time, it will be encoded as floats and will cause a schema enforcement error. The best way to avoid this problem is to infer the model schema based on a realistic data sample (training dataset) that includes missing values. Alternatively, you can declare integer columns as doubles (float64) whenever these columns may have missing values. See `Handling Integers With Missing Values <https://www.mlflow.org/docs/latest/models.html#handling-integers-with-missing-values>`_ for more details.\n",
      "  warnings.warn(\n"
     ]
    },
    {
     "name": "stdout",
     "output_type": "stream",
     "text": [
      "Logistic Regression - Fraud Data:\n",
      "               precision    recall  f1-score   support\n",
      "\n",
      "           0       0.96      0.99      0.97     27382\n",
      "           1       0.83      0.57      0.67      2841\n",
      "\n",
      "    accuracy                           0.95     30223\n",
      "   macro avg       0.89      0.78      0.82     30223\n",
      "weighted avg       0.94      0.95      0.94     30223\n",
      "\n"
     ]
    }
   ],
   "source": [
    "# Train and evaluate Logistic Regression model\n",
    "with mlflow.start_run(run_name=\"Logistic Regression - Fraud Data\"):\n",
    "    logistic_model = LogisticRegression(max_iter=1000, solver='lbfgs', class_weight='balanced')\n",
    "\n",
    "    logistic_model.fit(X_resampled, y_resampled)  # Train on resampled training data\n",
    "\n",
    "    y_pred_fraud = logistic_model.predict(X_test)  # Predict on original test data\n",
    "\n",
    "    # Generate classification report\n",
    "    report_fraud = classification_report(y_test, y_pred_fraud, output_dict=True)\n",
    "    accuracy_fraud = report_fraud['accuracy']\n",
    "\n",
    "    # Log parameters, metrics, and model\n",
    "    mlflow.log_param(\"model\", \"Logistic Regression\")\n",
    "    mlflow.log_metric(\"accuracy\", accuracy_fraud)\n",
    "    mlflow.sklearn.log_model(logistic_model, \"logistic_model_fraud\", input_example=X_test[:5])\n",
    "\n",
    "    # Print classification report\n",
    "    print(\"Logistic Regression - Fraud Data:\\n\", classification_report(y_test, y_pred_fraud))"
   ]
  },
  {
   "cell_type": "code",
   "execution_count": 38,
   "metadata": {},
   "outputs": [
    {
     "name": "stderr",
     "output_type": "stream",
     "text": [
      "c:\\Users\\HP\\Documents\\Dagii\\week 8 --9\\fraud-detection-models\\week-8\\Lib\\site-packages\\mlflow\\types\\utils.py:452: UserWarning: Hint: Inferred schema contains integer column(s). Integer columns in Python cannot represent missing values. If your input data contains missing values at inference time, it will be encoded as floats and will cause a schema enforcement error. The best way to avoid this problem is to infer the model schema based on a realistic data sample (training dataset) that includes missing values. Alternatively, you can declare integer columns as doubles (float64) whenever these columns may have missing values. See `Handling Integers With Missing Values <https://www.mlflow.org/docs/latest/models.html#handling-integers-with-missing-values>`_ for more details.\n",
      "  warnings.warn(\n"
     ]
    },
    {
     "name": "stdout",
     "output_type": "stream",
     "text": [
      "Decision Tree - Fraud Data:\n",
      "               precision    recall  f1-score   support\n",
      "\n",
      "           0       0.96      0.95      0.95     27382\n",
      "           1       0.55      0.60      0.57      2841\n",
      "\n",
      "    accuracy                           0.92     30223\n",
      "   macro avg       0.75      0.77      0.76     30223\n",
      "weighted avg       0.92      0.92      0.92     30223\n",
      "\n"
     ]
    }
   ],
   "source": [
    "# Train and evaluate Decision Tree model\n",
    "with mlflow.start_run(run_name=\"Decision Tree - Fraud Data\"):\n",
    "    decision_tree_model = DecisionTreeClassifier()\n",
    "\n",
    "    # Ensure feature data is in float64 to avoid MLflow warnings\n",
    "    X_train = X_train.astype('float64')\n",
    "    X_test = X_test.astype('float64')\n",
    "\n",
    "    # Convert integer columns in X_test to float64 to avoid schema enforcement warnings\n",
    "    X_test = X_test.astype('float64')\n",
    "\n",
    "    decision_tree_model.fit(X_train, y_train)  # Train the model\n",
    "    y_pred_fraud = decision_tree_model.predict(X_test)  # Predict on test data\n",
    "\n",
    "    # Generate classification report\n",
    "    report_fraud = classification_report(y_test, y_pred_fraud, output_dict=True)\n",
    "    accuracy_fraud = report_fraud['accuracy']\n",
    "\n",
    "    # Log parameters, metrics, and model\n",
    "    mlflow.log_param(\"model\", \"Decision Tree\")\n",
    "    mlflow.log_metric(\"accuracy\", accuracy_fraud)\n",
    "    mlflow.sklearn.log_model(decision_tree_model, \"decision_tree_model_fraud\", input_example=X_test[:5])\n",
    "\n",
    "    # Print classification report\n",
    "    print(\"Decision Tree - Fraud Data:\\n\", classification_report(y_test, y_pred_fraud))\n"
   ]
  },
  {
   "cell_type": "code",
   "execution_count": null,
   "metadata": {},
   "outputs": [
    {
     "name": "stderr",
     "output_type": "stream",
     "text": [
      "c:\\Users\\HP\\Documents\\Dagii\\week 8 --9\\fraud-detection-models\\week-8\\Lib\\site-packages\\mlflow\\types\\utils.py:452: UserWarning: Hint: Inferred schema contains integer column(s). Integer columns in Python cannot represent missing values. If your input data contains missing values at inference time, it will be encoded as floats and will cause a schema enforcement error. The best way to avoid this problem is to infer the model schema based on a realistic data sample (training dataset) that includes missing values. Alternatively, you can declare integer columns as doubles (float64) whenever these columns may have missing values. See `Handling Integers With Missing Values <https://www.mlflow.org/docs/latest/models.html#handling-integers-with-missing-values>`_ for more details.\n",
      "  warnings.warn(\n"
     ]
    },
    {
     "name": "stdout",
     "output_type": "stream",
     "text": [
      "Random Forest - Fraud Data:\n",
      "               precision    recall  f1-score   support\n",
      "\n",
      "           0       0.77      0.94      0.85      2853\n",
      "           1       0.92      0.71      0.80      2808\n",
      "\n",
      "    accuracy                           0.83      5661\n",
      "   macro avg       0.85      0.83      0.82      5661\n",
      "weighted avg       0.85      0.83      0.82      5661\n",
      "\n"
     ]
    }
   ],
   "source": [
    "# Train and evaluate Random Forest model for Fraud_Data.csv\n",
    "with mlflow.start_run(run_name=\"Random Forest - Fraud Data\"):\n",
    "    random_forest_model = RandomForestClassifier(n_estimators=100, random_state=42)\n",
    "    \n",
    "    # Ensure feature data is in float64 to avoid MLflow warnings\n",
    "    X_train_fraud = X_train_fraud.astype('float64')\n",
    "    X_test_fraud = X_test_fraud.astype('float64')\n",
    "\n",
    "    random_forest_model.fit(X_train_fraud, y_train_fraud)\n",
    "    y_pred_fraud = random_forest_model.predict(X_test_fraud)\n",
    "\n",
    "    # Generate classification report\n",
    "    report_fraud = classification_report(y_test_fraud, y_pred_fraud, output_dict=True)\n",
    "    accuracy_fraud = report_fraud['accuracy']\n",
    "\n",
    "    # Log parameters, metrics, and model\n",
    "    mlflow.log_param(\"model\", \"Random Forest\")\n",
    "    mlflow.log_metric(\"accuracy\", accuracy_fraud)\n",
    "    mlflow.sklearn.log_model(random_forest_model, \"random_forest_model_fraud\", input_example=X_test_fraud[:5])\n",
    "\n",
    "    # Print classification report\n",
    "    print(\"Random Forest - Fraud Data:\\n\", classification_report(y_test_fraud, y_pred_fraud))\n"
   ]
  },
  {
   "cell_type": "code",
   "execution_count": 40,
   "metadata": {},
   "outputs": [
    {
     "name": "stderr",
     "output_type": "stream",
     "text": [
      "c:\\Users\\HP\\Documents\\Dagii\\week 8 --9\\fraud-detection-models\\week-8\\Lib\\site-packages\\mlflow\\types\\utils.py:452: UserWarning: Hint: Inferred schema contains integer column(s). Integer columns in Python cannot represent missing values. If your input data contains missing values at inference time, it will be encoded as floats and will cause a schema enforcement error. The best way to avoid this problem is to infer the model schema based on a realistic data sample (training dataset) that includes missing values. Alternatively, you can declare integer columns as doubles (float64) whenever these columns may have missing values. See `Handling Integers With Missing Values <https://www.mlflow.org/docs/latest/models.html#handling-integers-with-missing-values>`_ for more details.\n",
      "  warnings.warn(\n"
     ]
    },
    {
     "name": "stdout",
     "output_type": "stream",
     "text": [
      "Gradient Boosting - Fraud Data:\n",
      "               precision    recall  f1-score   support\n",
      "\n",
      "           0       0.95      1.00      0.98     27382\n",
      "           1       1.00      0.54      0.70      2841\n",
      "\n",
      "    accuracy                           0.96     30223\n",
      "   macro avg       0.98      0.77      0.84     30223\n",
      "weighted avg       0.96      0.96      0.95     30223\n",
      "\n"
     ]
    }
   ],
   "source": [
    "# Train and evaluate Gradient Boosting model\n",
    "with mlflow.start_run(run_name=\"Gradient Boosting - Fraud Data\"):\n",
    "    gradient_boosting_model = GradientBoostingClassifier(n_estimators=100, learning_rate=0.1, max_depth=3, random_state=42)\n",
    "\n",
    "    # Ensure feature data is in float64 to avoid MLflow warnings\n",
    "    X_train = X_train.astype('float64')\n",
    "    X_test = X_test.astype('float64')\n",
    "\n",
    "    gradient_boosting_model.fit(X_train, y_train)  # Train the model\n",
    "    y_pred_fraud = gradient_boosting_model.predict(X_test)  # Predict on test data\n",
    "\n",
    "    # Generate classification report\n",
    "    report_fraud = classification_report(y_test, y_pred_fraud, output_dict=True)\n",
    "    accuracy_fraud = report_fraud['accuracy']\n",
    "\n",
    "    # Log parameters, metrics, and model\n",
    "    mlflow.log_param(\"model\", \"Gradient Boosting\")\n",
    "    mlflow.log_metric(\"accuracy\", accuracy_fraud)\n",
    "    mlflow.sklearn.log_model(gradient_boosting_model, \"gradient_boosting_model_fraud\", input_example=X_test[:5])\n",
    "\n",
    "    # Print classification report\n",
    "    print(\"Gradient Boosting - Fraud Data:\\n\", classification_report(y_test, y_pred_fraud))\n"
   ]
  },
  {
   "cell_type": "code",
   "execution_count": 41,
   "metadata": {},
   "outputs": [
    {
     "name": "stderr",
     "output_type": "stream",
     "text": [
      "c:\\Users\\HP\\Documents\\Dagii\\week 8 --9\\fraud-detection-models\\week-8\\Lib\\site-packages\\mlflow\\types\\utils.py:452: UserWarning: Hint: Inferred schema contains integer column(s). Integer columns in Python cannot represent missing values. If your input data contains missing values at inference time, it will be encoded as floats and will cause a schema enforcement error. The best way to avoid this problem is to infer the model schema based on a realistic data sample (training dataset) that includes missing values. Alternatively, you can declare integer columns as doubles (float64) whenever these columns may have missing values. See `Handling Integers With Missing Values <https://www.mlflow.org/docs/latest/models.html#handling-integers-with-missing-values>`_ for more details.\n",
      "  warnings.warn(\n"
     ]
    },
    {
     "name": "stdout",
     "output_type": "stream",
     "text": [
      "MLP - Fraud Data:\n",
      "               precision    recall  f1-score   support\n",
      "\n",
      "           0       0.96      1.00      0.98     27382\n",
      "           1       0.95      0.55      0.70      2841\n",
      "\n",
      "    accuracy                           0.96     30223\n",
      "   macro avg       0.95      0.77      0.84     30223\n",
      "weighted avg       0.95      0.96      0.95     30223\n",
      "\n"
     ]
    }
   ],
   "source": [
    "# Train and evaluate MLP model\n",
    "with mlflow.start_run(run_name=\"MLP - Fraud Data\"):\n",
    "    mlp_model = MLPClassifier(hidden_layer_sizes=(100,), max_iter=300, alpha=0.0001, solver='adam', random_state=42)\n",
    "\n",
    "    # Ensure feature data is in float64 to avoid MLflow warnings\n",
    "    X_train = X_train.astype('float64')\n",
    "    X_test = X_test.astype('float64')\n",
    "\n",
    "    mlp_model.fit(X_train, y_train)  # Train the model\n",
    "    y_pred_fraud = mlp_model.predict(X_test)  # Predict on test data\n",
    "\n",
    "    # Generate classification report\n",
    "    report_fraud = classification_report(y_test, y_pred_fraud, output_dict=True)\n",
    "    accuracy_fraud = report_fraud['accuracy']\n",
    "\n",
    "    # Log parameters, metrics, and model\n",
    "    mlflow.log_param(\"model\", \"MLP\")\n",
    "    mlflow.log_metric(\"accuracy\", accuracy_fraud)\n",
    "    mlflow.sklearn.log_model(mlp_model, \"mlp_model_fraud\", input_example=X_test[:5])\n",
    "\n",
    "    # Print classification report\n",
    "    print(\"MLP - Fraud Data:\\n\", classification_report(y_test, y_pred_fraud))\n"
   ]
  },
  {
   "cell_type": "markdown",
   "metadata": {},
   "source": [
    "### Summary\n",
    "Logistic Regression: Performs better after SMOTE in overall accuracy and Class 0 metrics, but with a slight drop in Class 1 recall and F1-score.\n",
    "\n",
    "Decision Tree: Performs better after SMOTE in overall accuracy and Class 0 metrics, but with a drop in Class 1 metrics.\n",
    "\n",
    "Random Forest: Performs better before SMOTE with higher overall accuracy and balanced precision and recall for both classes. After SMOTE, the Class 1 metrics improve but overall accuracy drops.\n",
    "\n",
    "Gradient Boosting: Performs better before SMOTE with higher recall for Class 1. After SMOTE, overall accuracy improves but recall for Class 1 drops significantly.\n",
    "\n",
    "MLP: Performs better after SMOTE in overall accuracy and Class 0 metrics, with consistent F1-score for Class 1.\n",
    "\n",
    "Logistic Regression and Random Forest models showed significant improvements in identifying fraudulent transactions after applying SMOTE.\n",
    "\n",
    "Decision Tree and Gradient Boosting models showed a decrease in recall for Class 1 after applying SMOTE.\n",
    "\n",
    "MLP model's recall for Class 1 remained consistent before and after applying SMOTE."
   ]
  },
  {
   "cell_type": "markdown",
   "metadata": {},
   "source": [
    "Identifying fraudulent transactions (Class 1) is my primary goal,am focusing on  Logistic Regression and  Random Forest models after applying SMOTE, as they have shown improvement in recall for Class 1. This means they are better at correctly identifying fraudulent transactions after the resampling process."
   ]
  },
  {
   "cell_type": "markdown",
   "metadata": {},
   "source": [
    "Random Forest is the best model after applying SMOTE due to its balanced and high performance in identifying fraudulent transactions, making it well-suited for fraud detection tasks. If you want to further optimize the model, you can experiment with hyperparameter tuning or feature engineering to achieve even better results."
   ]
  },
  {
   "cell_type": "code",
   "execution_count": 43,
   "metadata": {},
   "outputs": [
    {
     "name": "stdout",
     "output_type": "stream",
     "text": [
      "Model saved at: models\\random_forest_model_fraud.pkl\n"
     ]
    }
   ],
   "source": [
    "\n",
    "\n",
    "# Define the path to save the model\n",
    "model_folder = \"models\"\n",
    "if not os.path.exists(model_folder):\n",
    "    os.makedirs(model_folder)\n",
    "\n",
    "model_path = os.path.join(model_folder, \"random_forest_model_fraud.pkl\")\n",
    "\n",
    "# Save the model\n",
    "joblib.dump(random_forest_model, model_path)\n",
    "\n",
    "print(f\"Model saved at: {model_path}\")\n"
   ]
  }
 ],
 "metadata": {
  "kernelspec": {
   "display_name": "week-8",
   "language": "python",
   "name": "python3"
  },
  "language_info": {
   "codemirror_mode": {
    "name": "ipython",
    "version": 3
   },
   "file_extension": ".py",
   "mimetype": "text/x-python",
   "name": "python",
   "nbconvert_exporter": "python",
   "pygments_lexer": "ipython3",
   "version": "3.13.1"
  }
 },
 "nbformat": 4,
 "nbformat_minor": 2
}
