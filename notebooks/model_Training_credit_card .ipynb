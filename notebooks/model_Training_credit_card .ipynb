{
 "cells": [
  {
   "cell_type": "code",
   "execution_count": 1,
   "metadata": {},
   "outputs": [],
   "source": [
    "# Importing necessary lebraries\n",
    "import numpy as np\n",
    "import pandas as pd\n",
    "import os\n",
    "import sys\n",
    "import matplotlib.pyplot as pl\n",
    "import joblib\n",
    "import seaborn as se\n",
    "from imblearn.over_sampling import SMOTE\n",
    "from imblearn.under_sampling import RandomUnderSampler\n",
    "from collections import Counter\n",
    "from sklearn.linear_model import LogisticRegression\n",
    "from sklearn.metrics import classification_report\n",
    "import mlflow\n",
    "from sklearn.tree import DecisionTreeClassifier\n",
    "from sklearn.ensemble import RandomForestClassifier\n",
    "from sklearn.ensemble import GradientBoostingClassifier\n",
    "from sklearn.neural_network import MLPClassifier"
   ]
  },
  {
   "cell_type": "code",
   "execution_count": 2,
   "metadata": {},
   "outputs": [],
   "source": [
    "sys.path.append(os.path.join(os.path.abspath('..')))\n",
    "# Import modules\n",
    "from src import data_loading as dl"
   ]
  },
  {
   "cell_type": "code",
   "execution_count": 3,
   "metadata": {},
   "outputs": [],
   "source": [
    "\n",
    "sys.path.append(os.path.abspath(\"../\"))\n",
    "\n",
    "\n",
    "from scripts.model import prepare_data, split_data\n",
    "\n",
    "from scripts.logger import logger "
   ]
  },
  {
   "cell_type": "code",
   "execution_count": 4,
   "metadata": {},
   "outputs": [],
   "source": [
    "\n",
    "credit = dl.load_data(\"creditcard.csv\")\n",
    "# Remove duplicates\n",
    "credit = credit.drop_duplicates()\n",
    "credit[\"Class\"] = credit[\"Class\"].astype(bool)\n",
    "\n"
   ]
  },
  {
   "cell_type": "code",
   "execution_count": 5,
   "metadata": {},
   "outputs": [
    {
     "data": {
      "text/html": [
       "<div>\n",
       "<style scoped>\n",
       "    .dataframe tbody tr th:only-of-type {\n",
       "        vertical-align: middle;\n",
       "    }\n",
       "\n",
       "    .dataframe tbody tr th {\n",
       "        vertical-align: top;\n",
       "    }\n",
       "\n",
       "    .dataframe thead th {\n",
       "        text-align: right;\n",
       "    }\n",
       "</style>\n",
       "<table border=\"1\" class=\"dataframe\">\n",
       "  <thead>\n",
       "    <tr style=\"text-align: right;\">\n",
       "      <th></th>\n",
       "      <th>Time</th>\n",
       "      <th>V1</th>\n",
       "      <th>V2</th>\n",
       "      <th>V3</th>\n",
       "      <th>V4</th>\n",
       "      <th>V5</th>\n",
       "      <th>V6</th>\n",
       "      <th>V7</th>\n",
       "      <th>V8</th>\n",
       "      <th>V9</th>\n",
       "      <th>...</th>\n",
       "      <th>V21</th>\n",
       "      <th>V22</th>\n",
       "      <th>V23</th>\n",
       "      <th>V24</th>\n",
       "      <th>V25</th>\n",
       "      <th>V26</th>\n",
       "      <th>V27</th>\n",
       "      <th>V28</th>\n",
       "      <th>Amount</th>\n",
       "      <th>Class</th>\n",
       "    </tr>\n",
       "  </thead>\n",
       "  <tbody>\n",
       "    <tr>\n",
       "      <th>0</th>\n",
       "      <td>0.0</td>\n",
       "      <td>-1.359807</td>\n",
       "      <td>-0.072781</td>\n",
       "      <td>2.536347</td>\n",
       "      <td>1.378155</td>\n",
       "      <td>-0.338321</td>\n",
       "      <td>0.462388</td>\n",
       "      <td>0.239599</td>\n",
       "      <td>0.098698</td>\n",
       "      <td>0.363787</td>\n",
       "      <td>...</td>\n",
       "      <td>-0.018307</td>\n",
       "      <td>0.277838</td>\n",
       "      <td>-0.110474</td>\n",
       "      <td>0.066928</td>\n",
       "      <td>0.128539</td>\n",
       "      <td>-0.189115</td>\n",
       "      <td>0.133558</td>\n",
       "      <td>-0.021053</td>\n",
       "      <td>149.62</td>\n",
       "      <td>False</td>\n",
       "    </tr>\n",
       "    <tr>\n",
       "      <th>1</th>\n",
       "      <td>0.0</td>\n",
       "      <td>1.191857</td>\n",
       "      <td>0.266151</td>\n",
       "      <td>0.166480</td>\n",
       "      <td>0.448154</td>\n",
       "      <td>0.060018</td>\n",
       "      <td>-0.082361</td>\n",
       "      <td>-0.078803</td>\n",
       "      <td>0.085102</td>\n",
       "      <td>-0.255425</td>\n",
       "      <td>...</td>\n",
       "      <td>-0.225775</td>\n",
       "      <td>-0.638672</td>\n",
       "      <td>0.101288</td>\n",
       "      <td>-0.339846</td>\n",
       "      <td>0.167170</td>\n",
       "      <td>0.125895</td>\n",
       "      <td>-0.008983</td>\n",
       "      <td>0.014724</td>\n",
       "      <td>2.69</td>\n",
       "      <td>False</td>\n",
       "    </tr>\n",
       "    <tr>\n",
       "      <th>2</th>\n",
       "      <td>1.0</td>\n",
       "      <td>-1.358354</td>\n",
       "      <td>-1.340163</td>\n",
       "      <td>1.773209</td>\n",
       "      <td>0.379780</td>\n",
       "      <td>-0.503198</td>\n",
       "      <td>1.800499</td>\n",
       "      <td>0.791461</td>\n",
       "      <td>0.247676</td>\n",
       "      <td>-1.514654</td>\n",
       "      <td>...</td>\n",
       "      <td>0.247998</td>\n",
       "      <td>0.771679</td>\n",
       "      <td>0.909412</td>\n",
       "      <td>-0.689281</td>\n",
       "      <td>-0.327642</td>\n",
       "      <td>-0.139097</td>\n",
       "      <td>-0.055353</td>\n",
       "      <td>-0.059752</td>\n",
       "      <td>378.66</td>\n",
       "      <td>False</td>\n",
       "    </tr>\n",
       "    <tr>\n",
       "      <th>3</th>\n",
       "      <td>1.0</td>\n",
       "      <td>-0.966272</td>\n",
       "      <td>-0.185226</td>\n",
       "      <td>1.792993</td>\n",
       "      <td>-0.863291</td>\n",
       "      <td>-0.010309</td>\n",
       "      <td>1.247203</td>\n",
       "      <td>0.237609</td>\n",
       "      <td>0.377436</td>\n",
       "      <td>-1.387024</td>\n",
       "      <td>...</td>\n",
       "      <td>-0.108300</td>\n",
       "      <td>0.005274</td>\n",
       "      <td>-0.190321</td>\n",
       "      <td>-1.175575</td>\n",
       "      <td>0.647376</td>\n",
       "      <td>-0.221929</td>\n",
       "      <td>0.062723</td>\n",
       "      <td>0.061458</td>\n",
       "      <td>123.50</td>\n",
       "      <td>False</td>\n",
       "    </tr>\n",
       "    <tr>\n",
       "      <th>4</th>\n",
       "      <td>2.0</td>\n",
       "      <td>-1.158233</td>\n",
       "      <td>0.877737</td>\n",
       "      <td>1.548718</td>\n",
       "      <td>0.403034</td>\n",
       "      <td>-0.407193</td>\n",
       "      <td>0.095921</td>\n",
       "      <td>0.592941</td>\n",
       "      <td>-0.270533</td>\n",
       "      <td>0.817739</td>\n",
       "      <td>...</td>\n",
       "      <td>-0.009431</td>\n",
       "      <td>0.798278</td>\n",
       "      <td>-0.137458</td>\n",
       "      <td>0.141267</td>\n",
       "      <td>-0.206010</td>\n",
       "      <td>0.502292</td>\n",
       "      <td>0.219422</td>\n",
       "      <td>0.215153</td>\n",
       "      <td>69.99</td>\n",
       "      <td>False</td>\n",
       "    </tr>\n",
       "  </tbody>\n",
       "</table>\n",
       "<p>5 rows × 31 columns</p>\n",
       "</div>"
      ],
      "text/plain": [
       "   Time        V1        V2        V3        V4        V5        V6        V7  \\\n",
       "0   0.0 -1.359807 -0.072781  2.536347  1.378155 -0.338321  0.462388  0.239599   \n",
       "1   0.0  1.191857  0.266151  0.166480  0.448154  0.060018 -0.082361 -0.078803   \n",
       "2   1.0 -1.358354 -1.340163  1.773209  0.379780 -0.503198  1.800499  0.791461   \n",
       "3   1.0 -0.966272 -0.185226  1.792993 -0.863291 -0.010309  1.247203  0.237609   \n",
       "4   2.0 -1.158233  0.877737  1.548718  0.403034 -0.407193  0.095921  0.592941   \n",
       "\n",
       "         V8        V9  ...       V21       V22       V23       V24       V25  \\\n",
       "0  0.098698  0.363787  ... -0.018307  0.277838 -0.110474  0.066928  0.128539   \n",
       "1  0.085102 -0.255425  ... -0.225775 -0.638672  0.101288 -0.339846  0.167170   \n",
       "2  0.247676 -1.514654  ...  0.247998  0.771679  0.909412 -0.689281 -0.327642   \n",
       "3  0.377436 -1.387024  ... -0.108300  0.005274 -0.190321 -1.175575  0.647376   \n",
       "4 -0.270533  0.817739  ... -0.009431  0.798278 -0.137458  0.141267 -0.206010   \n",
       "\n",
       "        V26       V27       V28  Amount  Class  \n",
       "0 -0.189115  0.133558 -0.021053  149.62  False  \n",
       "1  0.125895 -0.008983  0.014724    2.69  False  \n",
       "2 -0.139097 -0.055353 -0.059752  378.66  False  \n",
       "3 -0.221929  0.062723  0.061458  123.50  False  \n",
       "4  0.502292  0.219422  0.215153   69.99  False  \n",
       "\n",
       "[5 rows x 31 columns]"
      ]
     },
     "execution_count": 5,
     "metadata": {},
     "output_type": "execute_result"
    }
   ],
   "source": [
    "credit.head()"
   ]
  },
  {
   "cell_type": "code",
   "execution_count": 8,
   "metadata": {},
   "outputs": [
    {
     "name": "stdout",
     "output_type": "stream",
     "text": [
      "No frauds 99.83 % of the dataset\n",
      "Frauds 0.17 % of the dataset\n",
      "Non fraud 283253\n",
      "Fraud 473\n"
     ]
    }
   ],
   "source": [
    "print('No frauds', round(credit['Class'].value_counts().iloc[0] / len(credit) * 100, 2), '% of the dataset')\n",
    "print('Frauds', round(credit['Class'].value_counts().iloc[1] / len(credit) * 100, 2), '% of the dataset')\n",
    "\n",
    "non_fraud_sum = credit[credit['Class'] == 0].value_counts().sum()\n",
    "print('Non fraud', non_fraud_sum)\n",
    "\n",
    "fraud_sum = credit[credit['Class'] == 1].value_counts().sum()\n",
    "print('Fraud', fraud_sum)\n"
   ]
  },
  {
   "cell_type": "code",
   "execution_count": 9,
   "metadata": {},
   "outputs": [
    {
     "data": {
      "image/png": "[encoded data removed]",
      "text/plain": [
       "<Figure size 640x480 with 1 Axes>"
      ]
     },
     "metadata": {},
     "output_type": "display_data"
    }
   ],
   "source": [
    "se.countplot(data=credit, x='Class', hue='Class', palette='viridis')\n",
    "pl.legend(title='Class', labels=['Non-Fraud', 'Fraud'], loc='best')\n",
    "pl.title('Distribution of Fraud and Non-Fraud Transactions')\n",
    "pl.show()"
   ]
  },
  {
   "cell_type": "markdown",
   "metadata": {},
   "source": [
    "dataset is highly imbalanced, with a very small percentage of fraudulent transactions compared to non-fraudulent ones.class imbalance can affect the performance of machine learning models. Models might become biased towards the majority class (non-fraudulent transactions), leading to poor detection of the minority class (fraudulent transactions)"
   ]
  },
  {
   "cell_type": "markdown",
   "metadata": {},
   "source": [
    "To address the class imbalance issue, we'll undersample the majority class\n",
    "Shuffle Dataset: Randomly shuffles the dataset to ensure randomness.\n",
    "\n",
    "Isolate Minority Class (Fraud): Selects all fraud instances (473).\n",
    "\n",
    "Sample Majority Class (Non-Fraud): Randomly selects 473 non-fraud instances to match the number of fraud cases.\n",
    "\n",
    "Create Balanced Dataset: Combines the fraud and selected non-fraud instances, then shuffles the combined dataset to ensure randomness."
   ]
  },
  {
   "cell_type": "code",
   "execution_count": 10,
   "metadata": {},
   "outputs": [
    {
     "data": {
      "text/html": [
       "<div>\n",
       "<style scoped>\n",
       "    .dataframe tbody tr th:only-of-type {\n",
       "        vertical-align: middle;\n",
       "    }\n",
       "\n",
       "    .dataframe tbody tr th {\n",
       "        vertical-align: top;\n",
       "    }\n",
       "\n",
       "    .dataframe thead th {\n",
       "        text-align: right;\n",
       "    }\n",
       "</style>\n",
       "<table border=\"1\" class=\"dataframe\">\n",
       "  <thead>\n",
       "    <tr style=\"text-align: right;\">\n",
       "      <th></th>\n",
       "      <th>Time</th>\n",
       "      <th>V1</th>\n",
       "      <th>V2</th>\n",
       "      <th>V3</th>\n",
       "      <th>V4</th>\n",
       "      <th>V5</th>\n",
       "      <th>V6</th>\n",
       "      <th>V7</th>\n",
       "      <th>V8</th>\n",
       "      <th>V9</th>\n",
       "      <th>...</th>\n",
       "      <th>V21</th>\n",
       "      <th>V22</th>\n",
       "      <th>V23</th>\n",
       "      <th>V24</th>\n",
       "      <th>V25</th>\n",
       "      <th>V26</th>\n",
       "      <th>V27</th>\n",
       "      <th>V28</th>\n",
       "      <th>Amount</th>\n",
       "      <th>Class</th>\n",
       "    </tr>\n",
       "  </thead>\n",
       "  <tbody>\n",
       "    <tr>\n",
       "      <th>0</th>\n",
       "      <td>14073.0</td>\n",
       "      <td>-4.153014</td>\n",
       "      <td>8.204797</td>\n",
       "      <td>-15.031714</td>\n",
       "      <td>10.330100</td>\n",
       "      <td>-3.994426</td>\n",
       "      <td>-3.250013</td>\n",
       "      <td>-10.415698</td>\n",
       "      <td>4.620804</td>\n",
       "      <td>-5.711248</td>\n",
       "      <td>...</td>\n",
       "      <td>1.976988</td>\n",
       "      <td>0.256510</td>\n",
       "      <td>0.485908</td>\n",
       "      <td>-1.198821</td>\n",
       "      <td>-0.526567</td>\n",
       "      <td>0.634874</td>\n",
       "      <td>1.627209</td>\n",
       "      <td>0.723235</td>\n",
       "      <td>1.00</td>\n",
       "      <td>True</td>\n",
       "    </tr>\n",
       "    <tr>\n",
       "      <th>1</th>\n",
       "      <td>55279.0</td>\n",
       "      <td>-5.753852</td>\n",
       "      <td>0.577610</td>\n",
       "      <td>-6.312782</td>\n",
       "      <td>5.159401</td>\n",
       "      <td>-1.698320</td>\n",
       "      <td>-2.683286</td>\n",
       "      <td>-7.934389</td>\n",
       "      <td>2.373550</td>\n",
       "      <td>-3.073079</td>\n",
       "      <td>...</td>\n",
       "      <td>1.177852</td>\n",
       "      <td>0.175331</td>\n",
       "      <td>-1.211123</td>\n",
       "      <td>-0.446891</td>\n",
       "      <td>-0.405520</td>\n",
       "      <td>-0.165797</td>\n",
       "      <td>1.505516</td>\n",
       "      <td>0.359492</td>\n",
       "      <td>1.00</td>\n",
       "      <td>True</td>\n",
       "    </tr>\n",
       "    <tr>\n",
       "      <th>2</th>\n",
       "      <td>45278.0</td>\n",
       "      <td>1.257581</td>\n",
       "      <td>0.389792</td>\n",
       "      <td>0.316394</td>\n",
       "      <td>0.688601</td>\n",
       "      <td>-0.329816</td>\n",
       "      <td>-1.062477</td>\n",
       "      <td>0.117713</td>\n",
       "      <td>-0.230186</td>\n",
       "      <td>-0.037977</td>\n",
       "      <td>...</td>\n",
       "      <td>-0.282539</td>\n",
       "      <td>-0.791483</td>\n",
       "      <td>0.124223</td>\n",
       "      <td>0.358095</td>\n",
       "      <td>0.232011</td>\n",
       "      <td>0.092895</td>\n",
       "      <td>-0.019934</td>\n",
       "      <td>0.031739</td>\n",
       "      <td>1.29</td>\n",
       "      <td>False</td>\n",
       "    </tr>\n",
       "    <tr>\n",
       "      <th>3</th>\n",
       "      <td>4462.0</td>\n",
       "      <td>-2.303350</td>\n",
       "      <td>1.759247</td>\n",
       "      <td>-0.359745</td>\n",
       "      <td>2.330243</td>\n",
       "      <td>-0.821628</td>\n",
       "      <td>-0.075788</td>\n",
       "      <td>0.562320</td>\n",
       "      <td>-0.399147</td>\n",
       "      <td>-0.238253</td>\n",
       "      <td>...</td>\n",
       "      <td>-0.294166</td>\n",
       "      <td>-0.932391</td>\n",
       "      <td>0.172726</td>\n",
       "      <td>-0.087330</td>\n",
       "      <td>-0.156114</td>\n",
       "      <td>-0.542628</td>\n",
       "      <td>0.039566</td>\n",
       "      <td>-0.153029</td>\n",
       "      <td>239.93</td>\n",
       "      <td>True</td>\n",
       "    </tr>\n",
       "    <tr>\n",
       "      <th>4</th>\n",
       "      <td>146022.0</td>\n",
       "      <td>0.908637</td>\n",
       "      <td>2.849024</td>\n",
       "      <td>-5.647343</td>\n",
       "      <td>6.009415</td>\n",
       "      <td>0.216656</td>\n",
       "      <td>-2.397014</td>\n",
       "      <td>-1.819308</td>\n",
       "      <td>0.338527</td>\n",
       "      <td>-2.819883</td>\n",
       "      <td>...</td>\n",
       "      <td>0.407260</td>\n",
       "      <td>-0.397435</td>\n",
       "      <td>-0.080006</td>\n",
       "      <td>-0.168597</td>\n",
       "      <td>0.465058</td>\n",
       "      <td>0.210510</td>\n",
       "      <td>0.648705</td>\n",
       "      <td>0.360224</td>\n",
       "      <td>1.18</td>\n",
       "      <td>True</td>\n",
       "    </tr>\n",
       "  </tbody>\n",
       "</table>\n",
       "<p>5 rows × 31 columns</p>\n",
       "</div>"
      ],
      "text/plain": [
       "       Time        V1        V2         V3         V4        V5        V6  \\\n",
       "0   14073.0 -4.153014  8.204797 -15.031714  10.330100 -3.994426 -3.250013   \n",
       "1   55279.0 -5.753852  0.577610  -6.312782   5.159401 -1.698320 -2.683286   \n",
       "2   45278.0  1.257581  0.389792   0.316394   0.688601 -0.329816 -1.062477   \n",
       "3    4462.0 -2.303350  1.759247  -0.359745   2.330243 -0.821628 -0.075788   \n",
       "4  146022.0  0.908637  2.849024  -5.647343   6.009415  0.216656 -2.397014   \n",
       "\n",
       "          V7        V8        V9  ...       V21       V22       V23       V24  \\\n",
       "0 -10.415698  4.620804 -5.711248  ...  1.976988  0.256510  0.485908 -1.198821   \n",
       "1  -7.934389  2.373550 -3.073079  ...  1.177852  0.175331 -1.211123 -0.446891   \n",
       "2   0.117713 -0.230186 -0.037977  ... -0.282539 -0.791483  0.124223  0.358095   \n",
       "3   0.562320 -0.399147 -0.238253  ... -0.294166 -0.932391  0.172726 -0.087330   \n",
       "4  -1.819308  0.338527 -2.819883  ...  0.407260 -0.397435 -0.080006 -0.168597   \n",
       "\n",
       "        V25       V26       V27       V28  Amount  Class  \n",
       "0 -0.526567  0.634874  1.627209  0.723235    1.00   True  \n",
       "1 -0.405520 -0.165797  1.505516  0.359492    1.00   True  \n",
       "2  0.232011  0.092895 -0.019934  0.031739    1.29  False  \n",
       "3 -0.156114 -0.542628  0.039566 -0.153029  239.93   True  \n",
       "4  0.465058  0.210510  0.648705  0.360224    1.18   True  \n",
       "\n",
       "[5 rows x 31 columns]"
      ]
     },
     "execution_count": 10,
     "metadata": {},
     "output_type": "execute_result"
    }
   ],
   "source": [
    "\n",
    "# to match the number of instances in the minority class.\n",
    "\n",
    "# Randomly shuffle the entire dataset to ensure randomness\n",
    "df = credit.sample(frac=1, random_state=42).reset_index(drop=True)\n",
    "\n",
    "# Isolate the minority class (fraud) with 473 instances\n",
    "minority_class = df.loc[df['Class'] == 1]\n",
    "\n",
    "# Select a random subset of the majority class (non-fraud) with the same number of instances as the minority class\n",
    "majority_class_subset = df.loc[df['Class'] == 0].sample(n=473, random_state=42)\n",
    "\n",
    "# Combine the minority class and the majority class subset to create a balanced dataset\n",
    "balanced_df = pd.concat([minority_class, majority_class_subset])\n",
    "\n",
    "# Shuffle the balanced dataset to ensure randomness\n",
    "balanced_df = balanced_df.sample(frac=1, random_state=42).reset_index(drop=True)\n",
    "\n",
    "# Verify the first few rows of the balanced dataset\n",
    "balanced_df.head()"
   ]
  },
  {
   "cell_type": "code",
   "execution_count": 11,
   "metadata": {},
   "outputs": [
    {
     "data": {
      "image/png": "[encoded data removed]",
      "text/plain": [
       "<Figure size 640x480 with 1 Axes>"
      ]
     },
     "metadata": {},
     "output_type": "display_data"
    }
   ],
   "source": [
    "se.countplot(data=balanced_df, x='Class', hue='Class', palette='viridis')\n",
    "pl.legend(title='Class', labels=['Non-Fraud', 'Fraud'], loc='best')\n",
    "pl.title('Distribution of Fraud and Non-Fraud Transactions')\n",
    "pl.show()"
   ]
  },
  {
   "cell_type": "code",
   "execution_count": 12,
   "metadata": {},
   "outputs": [
    {
     "name": "stderr",
     "output_type": "stream",
     "text": [
      "INFO:fraud_detection_logger:Preparing data by separating features and target column: Class\n"
     ]
    },
    {
     "name": "stdout",
     "output_type": "stream",
     "text": [
      "2025-02-11 11:20:50,133 - INFO - Preparing data by separating features and target column: Class\n"
     ]
    }
   ],
   "source": [
    "\n",
    "X_credit, y_credit = prepare_data(balanced_df, 'Class')"
   ]
  },
  {
   "cell_type": "code",
   "execution_count": 14,
   "metadata": {},
   "outputs": [
    {
     "name": "stdout",
     "output_type": "stream",
     "text": [
      "Counter({np.int64(0): 4730, np.int64(1): 2365})\n"
     ]
    }
   ],
   "source": [
    "from imblearn.over_sampling import SMOTE\n",
    "from imblearn.under_sampling import RandomUnderSampler\n",
    "from collections import Counter\n",
    "\n",
    "# Convert the target variable to integer\n",
    "credit['Class'] = credit['Class'].astype(int)\n",
    "\n",
    "# Define the resampling strategies\n",
    "over = SMOTE(sampling_strategy=0.5)\n",
    "under = RandomUnderSampler(sampling_strategy=0.1)\n",
    "\n",
    "# Split data into features (X) and target (y)\n",
    "X = credit.iloc[:, :-1].values  # Assuming 'Class' is the last column\n",
    "y = credit['Class'].values\n",
    "\n",
    "# Apply under-sampling first\n",
    "X_under, y_under = under.fit_resample(X, y)\n",
    "\n",
    "# Apply over-sampling on the under-sampled data\n",
    "X_resampled, y_resampled = over.fit_resample(X_under, y_under)\n",
    "\n",
    "# Now you can use the resampled data for further processing\n",
    "print(Counter(y_resampled))\n"
   ]
  },
  {
   "cell_type": "code",
   "execution_count": 15,
   "metadata": {},
   "outputs": [
    {
     "name": "stderr",
     "output_type": "stream",
     "text": [
      "INFO:fraud_detection_logger:Splitting data into train and test sets\n"
     ]
    },
    {
     "name": "stdout",
     "output_type": "stream",
     "text": [
      "2025-02-11 11:23:06,522 - INFO - Splitting data into train and test sets\n"
     ]
    }
   ],
   "source": [
    "#  Train-Test Split\n",
    "X_train, X_test, y_train, y_test = split_data(X_resampled, y_resampled, test_size=0.2, random_state=42)\n"
   ]
  },
  {
   "cell_type": "code",
   "execution_count": 19,
   "metadata": {},
   "outputs": [
    {
     "name": "stderr",
     "output_type": "stream",
     "text": [
      "c:\\Users\\HP\\Documents\\Dagii\\week 8 --9\\fraud-detection-models\\week-8\\Lib\\site-packages\\sklearn\\linear_model\\_logistic.py:465: ConvergenceWarning: lbfgs failed to converge (status=1):\n",
      "STOP: TOTAL NO. OF ITERATIONS REACHED LIMIT.\n",
      "\n",
      "Increase the number of iterations (max_iter) or scale the data as shown in:\n",
      "    https://scikit-learn.org/stable/modules/preprocessing.html\n",
      "Please also refer to the documentation for alternative solver options:\n",
      "    https://scikit-learn.org/stable/modules/linear_model.html#logistic-regression\n",
      "  n_iter_i = _check_optimize_result(\n"
     ]
    },
    {
     "name": "stdout",
     "output_type": "stream",
     "text": [
      "Logistic Regression - Fraud Data:\n",
      "               precision    recall  f1-score   support\n",
      "\n",
      "           0       0.99      0.99      0.99       974\n",
      "           1       0.98      0.97      0.98       445\n",
      "\n",
      "    accuracy                           0.99      1419\n",
      "   macro avg       0.98      0.98      0.98      1419\n",
      "weighted avg       0.99      0.99      0.99      1419\n",
      "\n"
     ]
    }
   ],
   "source": [
    "# Train and evaluate Logistic Regression model for creditcard.csv\n",
    "with mlflow.start_run(run_name=\"Logistic Regression - Fraud Data\"):\n",
    "    logistic_model = LogisticRegression(max_iter=1000, solver='lbfgs', class_weight='balanced')  # Increased max_iter & balanced class weights\n",
    "    \n",
    "    # Ensure feature data is in float64 to avoid MLflow warnings\n",
    "    X_train = X_train.astype('float64')\n",
    "    X_test = X_test.astype('float64')\n",
    "\n",
    "    logistic_model.fit(X_train, y_train)  # Train the model\n",
    "    y_pred_fraud = logistic_model.predict(X_test)  # Predict on test data\n",
    "\n",
    "    # Generate classification report\n",
    "    report_fraud = classification_report(y_test, y_pred_fraud, output_dict=True)\n",
    "    accuracy_fraud = report_fraud['accuracy']\n",
    "\n",
    "    # Log parameters, metrics, and model\n",
    "    mlflow.log_param(\"model\", \"Logistic Regression\")\n",
    "    mlflow.log_metric(\"accuracy\", accuracy_fraud)\n",
    "    mlflow.sklearn.log_model(logistic_model, \"logistic_model_fraud\", input_example=X_test[:5])\n",
    "\n",
    "    # Print classification report\n",
    "    print(\"Logistic Regression - Fraud Data:\\n\", classification_report(y_test, y_pred_fraud))\n"
   ]
  },
  {
   "cell_type": "code",
   "execution_count": 17,
   "metadata": {},
   "outputs": [
    {
     "name": "stdout",
     "output_type": "stream",
     "text": [
      "Decision Tree - Fraud Data:\n",
      "               precision    recall  f1-score   support\n",
      "\n",
      "           0       0.98      0.98      0.98       974\n",
      "           1       0.95      0.96      0.95       445\n",
      "\n",
      "    accuracy                           0.97      1419\n",
      "   macro avg       0.96      0.97      0.97      1419\n",
      "weighted avg       0.97      0.97      0.97      1419\n",
      "\n"
     ]
    }
   ],
   "source": [
    "\n",
    "# Train and evaluate Decision Tree model creditcard.csv\n",
    "with mlflow.start_run(run_name=\"Decision Tree - Fraud Data\"):\n",
    "    decision_tree_model = DecisionTreeClassifier()\n",
    "\n",
    "    # Ensure feature data is in float64 to avoid MLflow warnings\n",
    "    X_train = X_train.astype('float64')\n",
    "    X_test = X_test.astype('float64')\n",
    "\n",
    "    decision_tree_model.fit(X_train, y_train)  # Train the model\n",
    "    y_pred_fraud = decision_tree_model.predict(X_test)  # Predict on test data\n",
    "\n",
    "    # Generate classification report\n",
    "    report_fraud = classification_report(y_test, y_pred_fraud, output_dict=True)\n",
    "    accuracy_fraud = report_fraud['accuracy']\n",
    "\n",
    "    # Log parameters, metrics, and model\n",
    "    mlflow.log_param(\"model\", \"Decision Tree\")\n",
    "    mlflow.log_metric(\"accuracy\", accuracy_fraud)\n",
    "    mlflow.sklearn.log_model(decision_tree_model, \"decision_tree_model_fraud\", input_example=X_test[:5])\n",
    "\n",
    "    # Print classification report\n",
    "    print(\"Decision Tree - Fraud Data:\\n\", classification_report(y_test, y_pred_fraud))\n"
   ]
  },
  {
   "cell_type": "code",
   "execution_count": 20,
   "metadata": {},
   "outputs": [
    {
     "name": "stdout",
     "output_type": "stream",
     "text": [
      "Random Forest - Fraud Data:\n",
      "               precision    recall  f1-score   support\n",
      "\n",
      "           0       0.98      1.00      0.99       974\n",
      "           1       1.00      0.97      0.98       445\n",
      "\n",
      "    accuracy                           0.99      1419\n",
      "   macro avg       0.99      0.98      0.99      1419\n",
      "weighted avg       0.99      0.99      0.99      1419\n",
      "\n"
     ]
    }
   ],
   "source": [
    "\n",
    "# Train and evaluate Random Forest model for creditcard.csv\n",
    "with mlflow.start_run(run_name=\"Random Forest - Fraud Data\"):\n",
    "    random_forest_model = RandomForestClassifier(n_estimators=100, random_state=42)\n",
    "\n",
    "    # Ensure feature data is in float64 to avoid MLflow warnings\n",
    "    X_train = X_train.astype('float64')\n",
    "    X_test = X_test.astype('float64')\n",
    "\n",
    "    random_forest_model.fit(X_train, y_train)  # Train the model\n",
    "    y_pred_fraud = random_forest_model.predict(X_test)  # Predict on test data\n",
    "\n",
    "    # Generate classification report\n",
    "    report_fraud = classification_report(y_test, y_pred_fraud, output_dict=True)\n",
    "    accuracy_fraud = report_fraud['accuracy']\n",
    "\n",
    "    # Log parameters, metrics, and model\n",
    "    mlflow.log_param(\"model\", \"Random Forest\")\n",
    "    mlflow.log_metric(\"accuracy\", accuracy_fraud)\n",
    "    mlflow.sklearn.log_model(random_forest_model, \"random_forest_model_fraud\", input_example=X_test[:5])\n",
    "\n",
    "    # Print classification report\n",
    "    print(\"Random Forest - Fraud Data:\\n\", classification_report(y_test, y_pred_fraud))\n"
   ]
  },
  {
   "cell_type": "code",
   "execution_count": 21,
   "metadata": {},
   "outputs": [
    {
     "name": "stdout",
     "output_type": "stream",
     "text": [
      "Gradient Boosting - Fraud Data:\n",
      "               precision    recall  f1-score   support\n",
      "\n",
      "           0       0.98      0.99      0.99       974\n",
      "           1       0.98      0.96      0.97       445\n",
      "\n",
      "    accuracy                           0.98      1419\n",
      "   macro avg       0.98      0.98      0.98      1419\n",
      "weighted avg       0.98      0.98      0.98      1419\n",
      "\n"
     ]
    }
   ],
   "source": [
    "# Train and evaluate Gradient Boosting model for creditcard.csv\n",
    "with mlflow.start_run(run_name=\"Gradient Boosting - Fraud Data\"):\n",
    "    gradient_boosting_model = GradientBoostingClassifier(n_estimators=100, learning_rate=0.1, max_depth=3, random_state=42)\n",
    "\n",
    "    # Ensure feature data is in float64 to avoid MLflow warnings\n",
    "    X_train = X_train.astype('float64')\n",
    "    X_test = X_test.astype('float64')\n",
    "\n",
    "    gradient_boosting_model.fit(X_train, y_train)  # Train the model\n",
    "    y_pred_fraud = gradient_boosting_model.predict(X_test)  # Predict on test data\n",
    "\n",
    "    # Generate classification report\n",
    "    report_fraud = classification_report(y_test, y_pred_fraud, output_dict=True)\n",
    "    accuracy_fraud = report_fraud['accuracy']\n",
    "\n",
    "    # Log parameters, metrics, and model\n",
    "    mlflow.log_param(\"model\", \"Gradient Boosting\")\n",
    "    mlflow.log_metric(\"accuracy\", accuracy_fraud)\n",
    "    mlflow.sklearn.log_model(gradient_boosting_model, \"gradient_boosting_model_fraud\", input_example=X_test[:5])\n",
    "\n",
    "    # Print classification report\n",
    "    print(\"Gradient Boosting - Fraud Data:\\n\", classification_report(y_test, y_pred_fraud))\n"
   ]
  },
  {
   "cell_type": "code",
   "execution_count": 22,
   "metadata": {},
   "outputs": [
    {
     "name": "stdout",
     "output_type": "stream",
     "text": [
      "MLP - Fraud Data:\n",
      "               precision    recall  f1-score   support\n",
      "\n",
      "           0       0.93      0.99      0.96       974\n",
      "           1       0.98      0.83      0.90       445\n",
      "\n",
      "    accuracy                           0.94      1419\n",
      "   macro avg       0.95      0.91      0.93      1419\n",
      "weighted avg       0.94      0.94      0.94      1419\n",
      "\n"
     ]
    }
   ],
   "source": [
    "# Train and evaluate MLP model for creditcard.csv\n",
    "with mlflow.start_run(run_name=\"MLP - Fraud Data\"):\n",
    "    mlp_model = MLPClassifier(hidden_layer_sizes=(100,), max_iter=300, alpha=0.0001, solver='adam', random_state=42)\n",
    "\n",
    "    # Ensure feature data is in float64 to avoid MLflow warnings\n",
    "    X_train = X_train.astype('float64')\n",
    "    X_test = X_test.astype('float64')\n",
    "\n",
    "    mlp_model.fit(X_train, y_train)  # Train the model\n",
    "    y_pred_fraud = mlp_model.predict(X_test)  # Predict on test data\n",
    "\n",
    "    # Generate classification report\n",
    "    report_fraud = classification_report(y_test, y_pred_fraud, output_dict=True)\n",
    "    accuracy_fraud = report_fraud['accuracy']\n",
    "\n",
    "    # Log parameters, metrics, and model\n",
    "    mlflow.log_param(\"model\", \"MLP\")\n",
    "    mlflow.log_metric(\"accuracy\", accuracy_fraud)\n",
    "    mlflow.sklearn.log_model(mlp_model, \"mlp_model_fraud\", input_example=X_test[:5])\n",
    "\n",
    "    # Print classification report\n",
    "    print(\"MLP - Fraud Data:\\n\", classification_report(y_test, y_pred_fraud))\n"
   ]
  },
  {
   "cell_type": "markdown",
   "metadata": {},
   "source": [
    "Best Model for Fraud Detection: Random Forest\n",
    "Why Random Forest:\n",
    "Perfect Precision (1.00): This means that when the model predicts a transaction as fraud, it is almost always correct, which is critical in fraud detection to minimize false positives (false alarms).\n",
    "High Recall (0.97): It still identifies 97% of actual fraud cases, which is excellent, though it's a bit lower than Logistic Regression's 0.98 recall. This means it may miss a few fraud cases, but it's still highly effective.\n",
    "High F1-score (0.98): This shows a good balance between precision and recall, and overall performance."
   ]
  },
  {
   "cell_type": "code",
   "execution_count": 24,
   "metadata": {},
   "outputs": [
    {
     "data": {
      "text/plain": [
       "['models/randomforestfor_credit_card_data.pkl']"
      ]
     },
     "execution_count": 24,
     "metadata": {},
     "output_type": "execute_result"
    }
   ],
   "source": [
    "import os\n",
    "import joblib\n",
    "\n",
    "# Create the 'models' directory if it doesn't exist\n",
    "if not os.path.exists('models'):\n",
    "    os.makedirs('models')\n",
    "\n",
    "# Save the trained model to the 'models' folder with the name 'randomforestfor_credit_card_data.pkl'\n",
    "joblib.dump(random_forest_model, 'models/randomforestfor_credit_card_data.pkl')\n"
   ]
  }
 ],
 "metadata": {
  "kernelspec": {
   "display_name": "week-8",
   "language": "python",
   "name": "python3"
  },
  "language_info": {
   "codemirror_mode": {
    "name": "ipython",
    "version": 3
   },
   "file_extension": ".py",
   "mimetype": "text/x-python",
   "name": "python",
   "nbconvert_exporter": "python",
   "pygments_lexer": "ipython3",
   "version": "3.13.1"
  }
 },
 "nbformat": 4,
 "nbformat_minor": 2
}
